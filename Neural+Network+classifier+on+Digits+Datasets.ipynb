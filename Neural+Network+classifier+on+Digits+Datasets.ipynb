{
 "cells": [
  {
   "cell_type": "code",
   "execution_count": 1,
   "metadata": {},
   "outputs": [],
   "source": [
    "import numpy\n",
    "xdata=numpy.array([[0,0,1],[0,1,1],[1,0,1],[1,1,1]])\n",
    "ydata=numpy.array([[0],[1],[1],[0]])\n",
    "numpy.random.seed(1) #for getting uniformly distributed values\n",
    "w0=numpy.random.random((3,3))\n",
    "w1=numpy.random.random((3,1))"
   ]
  },
  {
   "cell_type": "code",
   "execution_count": 2,
   "metadata": {},
   "outputs": [
    {
     "name": "stdout",
     "output_type": "stream",
     "text": [
      "Error= 0.4994609146843254\n",
      "Error= 0.5000194596382245\n",
      "Error= 0.49997400704103223\n",
      "Error= 0.49990749848014465\n",
      "Error= 0.49976960366941237\n",
      "Error= 0.4993940591333557\n",
      "Error= 0.49788657926930946\n",
      "Error= 0.4884202618489034\n",
      "Error= 0.4340412463415098\n",
      "Error= 0.3384846122748836\n",
      "Error= 0.22297510477910137\n",
      "Error= 0.1545930500372575\n",
      "Error= 0.12021738166542945\n",
      "Error= 0.10015329383956847\n",
      "Error= 0.08697235620381609\n",
      "Error= 0.07758861141323925\n",
      "Error= 0.07052214387398592\n",
      "Error= 0.06497825660757804\n",
      "Error= 0.06049198427837266\n",
      "Error= 0.05677268802874347\n",
      "Error= 0.05362897144589951\n",
      "Error= 0.05092938206560456\n",
      "Error= 0.048580465189815576\n",
      "Error= 0.04651383619687424\n",
      "Error= 0.044678217913698755\n",
      "Error= 0.043034347234505554\n",
      "Error= 0.041551609770112026\n",
      "Error= 0.040205752933401596\n",
      "Error= 0.038977293235143665\n",
      "Error= 0.03785038277621657\n",
      "Error= 0.03681198687926263\n",
      "Error= 0.03585127710780384\n",
      "Error= 0.03495917628065526\n",
      "Error= 0.03412801262073831\n",
      "Error= 0.033351253502911744\n",
      "Error= 0.032623298093763714\n",
      "Error= 0.0319393141355195\n",
      "Error= 0.03129510821804068\n",
      "Error= 0.030687021736808033\n",
      "Error= 0.030111846754200138\n",
      "Error= 0.029566757429437297\n",
      "Error= 0.02904925373379804\n",
      "Error= 0.02855711493965261\n",
      "Error= 0.02808836094477796\n",
      "Error= 0.027641219922878713\n",
      "Error= 0.027214101116179182\n",
      "Error= 0.026805571833952102\n",
      "Error= 0.02641433791170138\n",
      "Error= 0.02603922703371573\n",
      "Error= 0.025679174437318614\n",
      "[[0.00775797]\n",
      " [0.97092659]\n",
      " [0.97035403]\n",
      " [0.03486907]]\n"
     ]
    }
   ],
   "source": [
    "for i in range(5000):\n",
    "   #feedforward part of the algorithm\n",
    "   l0=xdata;\n",
    "   l1=1/(1+numpy.exp(-(numpy.dot(l0,w0))))\n",
    "   l2=1/(1+numpy.exp(-(numpy.dot(l1,w1))))\n",
    "   e=l2-ydata #here we are done with forward propagation part#here starts the backpropagation part\n",
    "   delta2=e*(l2*(1-l2)) #backpropagating this delta to l1 layer\n",
    "   delta1=delta2.dot(w1.T)*l1*(1-l1)\n",
    "   dedw2=l1.T.dot(delta2)\n",
    "   dedw1=l0.T.dot(delta1)\n",
    "   w1=w1-0.8*dedw2\n",
    "   w0=w0-0.8*dedw1\n",
    "   if (i%100)==0:\n",
    "      print(\"Error= \"+str(numpy.mean(numpy.abs(e))))\n",
    "print(l2)"
   ]
  },
  {
   "cell_type": "code",
   "execution_count": 3,
   "metadata": {},
   "outputs": [],
   "source": [
    "from sklearn import datasets\n",
    "from sklearn import model_selection\n",
    "from sklearn import neural_network\n",
    "import matplotlib.pyplot as plt\n"
   ]
  },
  {
   "cell_type": "code",
   "execution_count": 5,
   "metadata": {},
   "outputs": [],
   "source": [
    "digits=datasets.load_digits()\n",
    "x=digits.data\n",
    "y=digits.target\n",
    "im=digits.images"
   ]
  },
  {
   "cell_type": "code",
   "execution_count": 15,
   "metadata": {},
   "outputs": [
    {
     "data": {
      "image/png": "[encoded data removed]",
      "text/plain": [
       "<Figure size 432x288 with 1 Axes>"
      ]
     },
     "metadata": {
      "needs_background": "light"
     },
     "output_type": "display_data"
    }
   ],
   "source": [
    "plt.imshow(im[22],cmap='gray',interpolation='nearest') \n",
    "plt.show()"
   ]
  },
  {
   "cell_type": "code",
   "execution_count": 16,
   "metadata": {},
   "outputs": [
    {
     "name": "stdout",
     "output_type": "stream",
     "text": [
      "(1437, 64)\n",
      "(360, 64)\n"
     ]
    }
   ],
   "source": [
    "#breaking the dataset into train and test\n",
    "xtrain,xtest,ytrain,ytest,imtrain,imtest=model_selection.train_test_split(x,y,im,test_size=0.2,random_state=5)\n",
    "print(xtrain.shape)\n",
    "print(xtest.shape)"
   ]
  },
  {
   "cell_type": "code",
   "execution_count": 18,
   "metadata": {},
   "outputs": [
    {
     "data": {
      "text/plain": [
       "MLPClassifier(activation='relu', alpha=0.0001, batch_size='auto', beta_1=0.9,\n",
       "       beta_2=0.999, early_stopping=False, epsilon=1e-08,\n",
       "       hidden_layer_sizes=(20, 20, 20), learning_rate='constant',\n",
       "       learning_rate_init=0.001, max_iter=200, momentum=0.9,\n",
       "       nesterovs_momentum=True, power_t=0.5, random_state=None,\n",
       "       shuffle=True, solver='sgd', tol=0.0001, validation_fraction=0.1,\n",
       "       verbose=False, warm_start=False)"
      ]
     },
     "execution_count": 18,
     "metadata": {},
     "output_type": "execute_result"
    }
   ],
   "source": [
    "nn=neural_network.MLPClassifier(hidden_layer_sizes=(20,20,20),solver='sgd')\n",
    "nn.fit(xtrain,ytrain)"
   ]
  },
  {
   "cell_type": "code",
   "execution_count": 23,
   "metadata": {},
   "outputs": [
    {
     "name": "stdout",
     "output_type": "stream",
     "text": [
      "accuracy is  \n",
      "0.9611111111111111\n",
      "the actual value is 0\n",
      "prediction is [0]\n"
     ]
    },
    {
     "data": {
      "image/png": "[encoded data removed]",
      "text/plain": [
       "<Figure size 432x288 with 1 Axes>"
      ]
     },
     "metadata": {
      "needs_background": "light"
     },
     "output_type": "display_data"
    }
   ],
   "source": [
    "print('accuracy is  ')\n",
    "print(nn.score(xtest,ytest))\n",
    "print('the actual value is '+str(ytest[22]))#right value\n",
    "print('prediction is ' + str(nn.predict(xtest[22].reshape(1,-1)))) #predicted value\n",
    "plt.imshow(imtest[22],cmap='gray') #main image\n",
    "plt.show()"
   ]
  }
 ],
 "metadata": {
  "kernelspec": {
   "display_name": "Python 3",
   "language": "python",
   "name": "python3"
  },
  "language_info": {
   "codemirror_mode": {
    "name": "ipython",
    "version": 3
   },
   "file_extension": ".py",
   "mimetype": "text/x-python",
   "name": "python",
   "nbconvert_exporter": "python",
   "pygments_lexer": "ipython3",
   "version": "3.7.0"
  }
 },
 "nbformat": 4,
 "nbformat_minor": 2
}
